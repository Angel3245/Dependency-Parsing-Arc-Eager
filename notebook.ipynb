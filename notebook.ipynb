{
  "cells": [
    {
      "cell_type": "code",
      "execution_count": null,
      "id": "f45b8c29",
      "metadata": {},
      "outputs": [],
      "source": [
        "# Copyright (C) 2024  Jose Ángel Pérez Garrido\n",
        "# \n",
        "# This program is free software: you can redistribute it and/or modify\n",
        "# it under the terms of the GNU General Public License as published by\n",
        "# the Free Software Foundation, either version 3 of the License, or\n",
        "# (at your option) any later version.\n",
        "\n",
        "# This program is distributed in the hope that it will be useful,\n",
        "# but WITHOUT ANY WARRANTY; without even the implied warranty of\n",
        "# MERCHANTABILITY or FITNESS FOR A PARTICULAR PURPOSE.  See the\n",
        "# GNU General Public License for more details.\n",
        "\n",
        "# You should have received a copy of the GNU General Public License\n",
        "# along with this program.  If not, see <https://www.gnu.org/licenses/>."
      ]
    },
    {
      "cell_type": "markdown",
      "id": "BA_jztHq6hkj",
      "metadata": {
        "id": "BA_jztHq6hkj"
      },
      "source": [
        "# Dependency parsing\n",
        "\n",
        "**Goal**: implement a neural parser to output the dependency syntactic structure (in CoNLLU format) of an input given sentence."
      ]
    },
    {
      "cell_type": "markdown",
      "id": "FzMY8WHperRl",
      "metadata": {
        "id": "FzMY8WHperRl"
      },
      "source": [
        "**USAGE GUIDELINES**\n",
        "\n",
        "This program support the following functionalities. To use them move to the desired section and follow the instructions:\n",
        "1. (Section 1) Train a model and save it as a pickle file.\n",
        "2. (Section 2) Predict the outputs for the test set and report the standard metrics for parsing: labelled (LAS) and unlabeled attachment scores (UAS).\n",
        "\n",
        "**NOTE: First, make sure you configure and execute the following cells in order to setup the working environment.**\n"
      ]
    },
    {
      "cell_type": "code",
      "execution_count": null,
      "id": "dxVfvOA-6H2J",
      "metadata": {
        "cellView": "form",
        "id": "dxVfvOA-6H2J"
      },
      "outputs": [],
      "source": [
        "# SET VARIABLES\n",
        "# @title Setup working environment\n",
        "# @markdown ### General configuration\n",
        "workspace_folder = \"/content/drive/MyDrive/src\" # @param {type:\"string\"}\n",
        "# @markdown workspace_folder = Directory which contains the application .py files (fileparser.py, preprocess.py, dp_model.py...)\n",
        "# @markdown - Note: You should set the absolute path where you have saved the required modules, taking into account that, in *Google Colaboratory*, you have direct access to the folder `/content/`"
      ]
    },
    {
      "cell_type": "code",
      "execution_count": null,
      "id": "A3lBWzEK19wr",
      "metadata": {
        "colab": {
          "base_uri": "https://localhost:8080/"
        },
        "id": "A3lBWzEK19wr",
        "outputId": "502ac9eb-8d78-4085-c4f0-dbc98468c3ba"
      },
      "outputs": [
        {
          "name": "stdout",
          "output_type": "stream",
          "text": [
            "Drive already mounted at /content/drive; to attempt to forcibly remount, call drive.mount(\"/content/drive\", force_remount=True).\n",
            "Requirement already satisfied: conllu==4.5.3 in /usr/local/lib/python3.10/dist-packages (4.5.3)\n",
            "Requirement already satisfied: pydot==1.4.2 in /usr/local/lib/python3.10/dist-packages (1.4.2)\n",
            "Requirement already satisfied: pyparsing>=2.1.4 in /usr/local/lib/python3.10/dist-packages (from pydot==1.4.2) (3.1.1)\n",
            "Requirement already satisfied: pyparsing==3.1.1 in /usr/local/lib/python3.10/dist-packages (3.1.1)\n",
            "Requirement already satisfied: tqdm==4.66.1 in /usr/local/lib/python3.10/dist-packages (4.66.1)\n",
            "2.15.0\n"
          ]
        }
      ],
      "source": [
        "# Prepare the environment\n",
        "\n",
        "# Mount drive folder\n",
        "from google.colab import drive\n",
        "drive.mount('/content/drive')\n",
        "\n",
        "# Uninstall the current version of TensorFlow.\n",
        "#!pip uninstall tensorflow -2.13.0\n",
        "\n",
        "# Install TensorFlow 2.12.0.\n",
        "#!pip install tensorflow==2.12.0\n",
        "\n",
        "# Install required libraries\n",
        "!pip install conllu==4.5.3\n",
        "!pip install pydot==1.4.2\n",
        "!pip install pyparsing==3.1.1\n",
        "!pip install tqdm==4.66.1\n",
        "\n",
        "import os, sys, pickle, subprocess\n",
        "import matplotlib.pyplot as plt\n",
        "\n",
        "# Verify the TensorFlow version.\n",
        "import tensorflow as tf\n",
        "from tensorflow.python import keras\n",
        "print(tf.__version__)\n",
        "\n",
        "# Set the model output location folder\n",
        "modelfolder = \"/content/Model_output\""
      ]
    },
    {
      "cell_type": "code",
      "execution_count": null,
      "id": "IQqpcCeyFV1-",
      "metadata": {
        "id": "IQqpcCeyFV1-"
      },
      "outputs": [],
      "source": [
        "# Import developed Python classes\n",
        "sys.path.append(workspace_folder)\n",
        "\n",
        "from src.preprocess import *\n",
        "from src.postprocess import *\n",
        "from src.dependency_tree import *\n",
        "from src.dp_model import *\n",
        "from src.fileparser import *\n",
        "from src.oracle import *"
      ]
    },
    {
      "cell_type": "markdown",
      "id": "cddFHyPuhhtu",
      "metadata": {
        "id": "cddFHyPuhhtu"
      },
      "source": [
        "**Data preparation**\n",
        "\n",
        "Download the dataset (`conllu` files) from the *GitHub* of Universal Dependencies (UD). We use the utility function [`tensorflow.keras.utils.get_file()`](https://www.tensorflow.org/api_docs/python/tf/keras/utils/get_file) to download the files."
      ]
    },
    {
      "cell_type": "code",
      "execution_count": null,
      "id": "9227adb7",
      "metadata": {
        "colab": {
          "base_uri": "https://localhost:8080/",
          "height": 35
        },
        "id": "9227adb7",
        "outputId": "fbaf3ca5-741e-4f0c-ba4e-ef0ba1aad7b0"
      },
      "outputs": [
        {
          "data": {
            "application/vnd.google.colaboratory.intrinsic+json": {
              "type": "string"
            },
            "text/plain": [
              "'/content/Datasources/UD_Spanish-GSD/train.conllu'"
            ]
          },
          "execution_count": 29,
          "metadata": {},
          "output_type": "execute_result"
        }
      ],
      "source": [
        "# Load the datasets\n",
        "\n",
        "# Set the datasets location folder\n",
        "datafolder = \"/content/Datasources\"\n",
        "\n",
        "# Create folders to save treebanks\n",
        "languages = [\"UD_English-ParTUT\", \"UD_English-EWT\", \"UD_English-GUM\", \"UD_Russian-SynTagRus\", \"UD_Russian-Taiga\", \"UD_Spanish-AnCora\", \"UD_Spanish-GSD\"]\n",
        "for i in languages:\n",
        "  if not os.path.exists(datafolder+\"/\"+i):\n",
        "    os.makedirs(datafolder+\"/\"+i)\n",
        "\n",
        "# Download Treebanks\n",
        "# UD_English-ParTUT\n",
        "tf.keras.utils.get_file(\n",
        "    fname=str(f\"{datafolder}/UD_English-ParTUT/dev.conllu\"),\n",
        "    origin=\"https://raw.githubusercontent.com/UniversalDependencies/UD_English-ParTUT/master/en_partut-ud-dev.conllu\",\n",
        "    extract=False\n",
        ")\n",
        "tf.keras.utils.get_file(\n",
        "    fname=str(f\"{datafolder}/UD_English-ParTUT/test.conllu\"),\n",
        "    origin=\"https://raw.githubusercontent.com/UniversalDependencies/UD_English-ParTUT/master/en_partut-ud-test.conllu\",\n",
        "    extract=False\n",
        ")\n",
        "tf.keras.utils.get_file(\n",
        "    fname=str(f\"{datafolder}/UD_English-ParTUT/train.conllu\"),\n",
        "    origin=\"https://raw.githubusercontent.com/UniversalDependencies/UD_English-ParTUT/master/en_partut-ud-train.conllu\",\n",
        "    extract=False\n",
        ")\n",
        "\n",
        "# UD_English-EWT\n",
        "tf.keras.utils.get_file(\n",
        "    fname=str(f\"{datafolder}/UD_English-EWT/dev.conllu\"),\n",
        "    origin=\"https://raw.githubusercontent.com/UniversalDependencies/UD_English-EWT/master/en_ewt-ud-dev.conllu\",\n",
        "    extract=False\n",
        ")\n",
        "tf.keras.utils.get_file(\n",
        "    fname=str(f\"{datafolder}/UD_English-EWT/test.conllu\"),\n",
        "    origin=\"https://raw.githubusercontent.com/UniversalDependencies/UD_English-EWT/master/en_ewt-ud-test.conllu\",\n",
        "    extract=False\n",
        ")\n",
        "tf.keras.utils.get_file(\n",
        "    fname=str(f\"{datafolder}/UD_English-EWT/train.conllu\"),\n",
        "    origin=\"https://raw.githubusercontent.com/UniversalDependencies/UD_English-EWT/master/en_ewt-ud-train.conllu\",\n",
        "    extract=False\n",
        ")\n",
        "\n",
        "# UD_English-GUM\n",
        "tf.keras.utils.get_file(\n",
        "    fname=str(f\"{datafolder}/UD_English-GUM/dev.conllu\"),\n",
        "    origin=\"https://raw.githubusercontent.com/UniversalDependencies/UD_English-GUM/master/en_gum-ud-dev.conllu\",\n",
        "    extract=False\n",
        ")\n",
        "tf.keras.utils.get_file(\n",
        "    fname=str(f\"{datafolder}/UD_English-GUM/test.conllu\"),\n",
        "    origin=\"https://raw.githubusercontent.com/UniversalDependencies/UD_English-GUM/master/en_gum-ud-test.conllu\",\n",
        "    extract=False\n",
        ")\n",
        "tf.keras.utils.get_file(\n",
        "    fname=str(f\"{datafolder}/UD_English-GUM/train.conllu\"),\n",
        "    origin=\"https://raw.githubusercontent.com/UniversalDependencies/UD_English-GUM/master/en_gum-ud-train.conllu\",\n",
        "    extract=False\n",
        ")\n",
        "\n",
        "# UD_Russian-SynTagRus\n",
        "tf.keras.utils.get_file(\n",
        "    fname=str(f\"{datafolder}/UD_Russian-SynTagRus/dev.conllu\"),\n",
        "    origin=\"https://raw.githubusercontent.com/UniversalDependencies/UD_Russian-SynTagRus/master/ru_syntagrus-ud-dev.conllu\",\n",
        "    extract=False\n",
        ")\n",
        "tf.keras.utils.get_file(\n",
        "    fname=str(f\"{datafolder}/UD_Russian-SynTagRus/test.conllu\"),\n",
        "    origin=\"https://raw.githubusercontent.com/UniversalDependencies/UD_Russian-SynTagRus/master/ru_syntagrus-ud-test.conllu\",\n",
        "    extract=False\n",
        ")\n",
        "tf.keras.utils.get_file(\n",
        "    fname=str(f\"{datafolder}/UD_Russian-SynTagRus/train.conllu\"),\n",
        "    origin=\"https://raw.githubusercontent.com/UniversalDependencies/UD_Russian-SynTagRus/master/ru_syntagrus-ud-train-a.conllu\",\n",
        "    extract=False\n",
        ")\n",
        "\n",
        "# UD_Russian-Taiga\n",
        "tf.keras.utils.get_file(\n",
        "    fname=str(f\"{datafolder}/UD_Russian-Taiga/dev.conllu\"),\n",
        "    origin=\"https://raw.githubusercontent.com/UniversalDependencies/UD_Russian-Taiga/master/ru_taiga-ud-dev.conllu\",\n",
        "    extract=False\n",
        ")\n",
        "tf.keras.utils.get_file(\n",
        "    fname=str(f\"{datafolder}/UD_Russian-Taiga/test.conllu\"),\n",
        "    origin=\"https://raw.githubusercontent.com/UniversalDependencies/UD_Russian-Taiga/master/ru_taiga-ud-test.conllu\",\n",
        "    extract=False\n",
        ")\n",
        "tf.keras.utils.get_file(\n",
        "    fname=str(f\"{datafolder}/UD_Russian-Taiga/train.conllu\"),\n",
        "    origin=\"https://raw.githubusercontent.com/UniversalDependencies/UD_Russian-Taiga/master/ru_taiga-ud-train.conllu\",\n",
        "    extract=False\n",
        ")\n",
        "\n",
        "#UD_Spanish-AnCora\n",
        "tf.keras.utils.get_file(\n",
        "    fname=str(f\"{datafolder}/UD_Spanish-AnCora/dev.conllu\"),\n",
        "    origin=\"https://raw.githubusercontent.com/UniversalDependencies/UD_Spanish-AnCora/master/es_ancora-ud-dev.conllu\",\n",
        "    extract=False\n",
        ")\n",
        "tf.keras.utils.get_file(\n",
        "    fname=str(f\"{datafolder}/UD_Spanish-AnCora/test.conllu\"),\n",
        "    origin=\"https://raw.githubusercontent.com/UniversalDependencies/UD_Spanish-AnCora/master/es_ancora-ud-test.conllu\",\n",
        "    extract=False\n",
        ")\n",
        "tf.keras.utils.get_file(\n",
        "    fname=str(f\"{datafolder}/UD_Spanish-AnCora/train.conllu\"),\n",
        "    origin=\"https://raw.githubusercontent.com/UniversalDependencies/UD_Spanish-AnCora/master/es_ancora-ud-train.conllu\",\n",
        "    extract=False\n",
        ")\n",
        "\n",
        "#UD_Spanish-GSD\n",
        "tf.keras.utils.get_file(\n",
        "    fname=str(f\"{datafolder}/UD_Spanish-GSD/dev.conllu\"),\n",
        "    origin=\"https://raw.githubusercontent.com/UniversalDependencies/UD_Spanish-GSD/master/es_gsd-ud-dev.conllu\",\n",
        "    extract=False\n",
        ")\n",
        "tf.keras.utils.get_file(\n",
        "    fname=str(f\"{datafolder}/UD_Spanish-GSD/test.conllu\"),\n",
        "    origin=\"https://raw.githubusercontent.com/UniversalDependencies/UD_Spanish-GSD/master/es_gsd-ud-test.conllu\",\n",
        "    extract=False\n",
        ")\n",
        "tf.keras.utils.get_file(\n",
        "    fname=str(f\"{datafolder}/UD_Spanish-GSD/train.conllu\"),\n",
        "    origin=\"https://raw.githubusercontent.com/UniversalDependencies/UD_Spanish-GSD/master/es_gsd-ud-train.conllu\",\n",
        "    extract=False\n",
        ")"
      ]
    },
    {
      "cell_type": "markdown",
      "id": "JcPVPT9Zi0q1",
      "metadata": {
        "id": "JcPVPT9Zi0q1"
      },
      "source": [
        "////////////////////////////////////////////////////////////////////////////////////////////////////////"
      ]
    },
    {
      "cell_type": "markdown",
      "id": "8HUA4ev92lop",
      "metadata": {
        "id": "8HUA4ev92lop"
      },
      "source": [
        "# 1. TRAIN A MODEL\n",
        "\n",
        "**(Requirements) Setup the training module:**\n",
        "\n",
        "First of all, you must configure the variables in the following cell to execute the program. Then, you can start the following cells to train the model. An explanation of the different variables is provided below:\n",
        "\n",
        "---\n",
        "### Dataset configuration\n",
        "*   language = The treebank dataset to be selected\n",
        "---\n",
        "### Model topology\n",
        "*   sigma_size = Elements taken from the stack each training step\n",
        "*   beta_size = Elements taken from the buffer each training step\n",
        "*   num_dense_layers = Number of additional hidden Dense layers\n",
        "*   dropout_rate = Rate for the Dropout layer\n",
        "*   dense_units = Units for every hidden TimeDistributed Dense layers\n",
        "---\n",
        "### Model hyperparameters\n",
        "*   optimizer = Algorithm that will adjust the model's parameters during training to minimize the loss function\n",
        "* epochs = Number of times the training data passes through the algorithm\n",
        "* batch_size = Number of samples that will be propagated through the network\n",
        "\n",
        "We will use the loss function \"sparse_categorical_crossentropy\" and the metric \"accuracy\".\n",
        "\n",
        "\n",
        "\n"
      ]
    },
    {
      "cell_type": "code",
      "execution_count": null,
      "id": "Mj-p3I_6eIaP",
      "metadata": {
        "cellView": "form",
        "id": "Mj-p3I_6eIaP"
      },
      "outputs": [],
      "source": [
        "# SET VARIABLES\n",
        "# @title Training module configuration. Set the following variables\n",
        "# @markdown ### Dataset configuration\n",
        "language = \"UD_English-ParTUT\" # @param [\"UD_English-ParTUT\",\"UD_English-EWT\",\"UD_Russian-SynTagRus\",\"UD_Spanish-AnCora\"]\n",
        "\n",
        "# @markdown ---\n",
        "# @markdown ### Model topology\n",
        "sigma_size = 2 # @param {type:\"number\", min:1, max:20, step:1}\n",
        "beta_size = 2 # @param {type:\"number\", min:1, max:20, step:1}\n",
        "num_dense_layers = 0 # @param @param {type:\"number\", min:1, max:20, step:1}\n",
        "dropout_rate = 0.0 # @param {type:\"number\", min:0, max:1, step:0.1}\n",
        "\n",
        "# @markdown ---\n",
        "# @markdown ### Model hyperparameters\n",
        "optimizer = \"adam\" # @param [\"adam\", \"sgd\", \"rmsprop\", \"adadelta\", \"adagrad\", \"adamax\", \"adafactor\", \"nadam\", \"ftrl\"]\n",
        "epochs = 15 # @param {type:\"slider\", min:1, max:100, step:1}\n",
        "batch_size = 32 # @param {type:\"number\", min:1, max:512, step:1}\n",
        "\n",
        "hyperparameters = {\n",
        "    \"loss\" : \"sparse_categorical_crossentropy\",\n",
        "    \"optimizer\" : optimizer,\n",
        "    \"metrics\" : [\"accuracy\"],\n",
        "    \"epochs\" : epochs,\n",
        "    \"batch_size\" : batch_size\n",
        "}\n",
        "\n",
        "# Set topology\n",
        "topology ={\n",
        "    \"sigma_size\" : int(sigma_size),\n",
        "    \"beta_size\" : int(beta_size),\n",
        "    \"num_dense_layers\" : int(num_dense_layers),\n",
        "    \"dropout_rate\" : int(dropout_rate)\n",
        "}"
      ]
    },
    {
      "cell_type": "markdown",
      "id": "A5ifn64xEgsx",
      "metadata": {
        "id": "A5ifn64xEgsx"
      },
      "source": [
        "**2. Process the treebank**\n",
        "\n",
        "Secondly, we preprocess the treebank dataset. This whole process will return the sentences structured in a TokenList format (dictionary composed by the different ConLLu tags).\n",
        "\n",
        "We make use of the class `Conllu_parser()` available in the file `preprocess.py` to extract the data (tokens ID, FORM, UPOS, DEPREL and HEAD) from the different .conllu files for training and validation. In addition, this class adds the special ROOT item as ID 0 and makes sure to remove empty tokens and multi-word units."
      ]
    },
    {
      "cell_type": "code",
      "execution_count": null,
      "id": "gJaoDnmuEFlT",
      "metadata": {
        "colab": {
          "base_uri": "https://localhost:8080/"
        },
        "id": "gJaoDnmuEFlT",
        "outputId": "fa432dc6-f523-471d-fdd0-613b094979f7"
      },
      "outputs": [
        {
          "name": "stdout",
          "output_type": "stream",
          "text": [
            "Loading UD_English-ParTUT dataset...\n"
          ]
        }
      ],
      "source": [
        "# PREPROCESS INPUT SAMPLES\n",
        "print(\"Loading\",language,\"dataset...\")\n",
        "\n",
        "parser = Conllu_parser()\n",
        "\n",
        "# Parse train file\n",
        "input_str = str(f\"{datafolder}/{language}/train.conllu\")\n",
        "train_sentences = parser(input_str)\n",
        "\n",
        "# Parse validation file\n",
        "input_str = str(f\"{datafolder}/{language}/dev.conllu\")\n",
        "val_sentences=parser(input_str)"
      ]
    },
    {
      "cell_type": "markdown",
      "id": "tZpyXnIr9-1X",
      "metadata": {
        "id": "tZpyXnIr9-1X"
      },
      "source": [
        "Then we create a label dictionary which will allow us to make an ad-hoc mapping for values in columns FORM, UPOS and DEPREL, as well as Arc-Eager Oracle transitions. We only use the train targets to guarantee we are testing correctly the generalization capabilities of our model."
      ]
    },
    {
      "cell_type": "code",
      "execution_count": null,
      "id": "AGMP3R1C9_Xi",
      "metadata": {
        "colab": {
          "base_uri": "https://localhost:8080/"
        },
        "id": "AGMP3R1C9_Xi",
        "outputId": "4f02b29c-0c91-447d-a055-5f3ec5861725"
      },
      "outputs": [
        {
          "name": "stdout",
          "output_type": "stream",
          "text": [
            "Generating dictionaries for labeling columns FORM, UPOS and DEPREL...\n",
            "Generating dictionary for labeling transitions...\n"
          ]
        }
      ],
      "source": [
        "# Generate dictionaries for labeling columns FORM, UPOS and DEPREL\n",
        "print(\"Generating dictionaries for labeling columns FORM, UPOS and DEPREL...\")\n",
        "form_dict = generate_dict([(token[\"form\"] for token in sentence) for sentence in train_sentences],2) #NOTE: labeling starts in 2\n",
        "form_dict[\"None\"] = 1 # NOTE: Add special token None (padding if stack or buffer does not have enough elements)\n",
        "upos_dict = generate_dict([(token[\"upos\"] for token in sentence) for sentence in train_sentences],2) #NOTE: labeling starts in 2\n",
        "upos_dict[\"None\"] = 1 # NOTE: Add special token None (padding if stack or buffer does not have enough elements)\n",
        "deprel_dict = generate_dict([(token[\"deprel\"] for token in sentence) for sentence in train_sentences])\n",
        "\n",
        "# Generate dictionary for labeling transitions\n",
        "print(\"Generating dictionary for labeling transitions...\")\n",
        "transition_dict = {\n",
        "    \"LEFT_ARC\": 0,\n",
        "    \"RIGHT_ARC\": 1,\n",
        "    \"REDUCE\": 2,\n",
        "    \"SHIFT\": 3,\n",
        "}"
      ]
    },
    {
      "cell_type": "markdown",
      "id": "K3Ok3QvMP6qa",
      "metadata": {
        "id": "K3Ok3QvMP6qa"
      },
      "source": [
        "Next we transform all the sentences into Dependency Trees."
      ]
    },
    {
      "cell_type": "code",
      "execution_count": null,
      "id": "khZhoCslP63l",
      "metadata": {
        "colab": {
          "base_uri": "https://localhost:8080/"
        },
        "id": "khZhoCslP63l",
        "outputId": "4a40b8da-9a9c-4f2a-f1b6-e4b7788a24e2"
      },
      "outputs": [
        {
          "name": "stdout",
          "output_type": "stream",
          "text": [
            "Creating Reference trees...\n"
          ]
        }
      ],
      "source": [
        "# Create Dependency Parsing model architecture\n",
        "print(\"Creating Reference trees...\")\n",
        "reference_train_trees = create_dependency_trees(train_sentences)\n",
        "reference_val_trees = create_dependency_trees(val_sentences)"
      ]
    },
    {
      "cell_type": "markdown",
      "id": "2t8dwXGQQI34",
      "metadata": {
        "id": "2t8dwXGQQI34"
      },
      "source": [
        "After that, we use the Arc-Eager oracle to create dependency transitions. In dependency parsing, this artifact refers to a method that provides the correct sequence of transitions needed to build the gold-standard (or manually annotated) dependency tree for a given sentence. The oracle guides the parsing algorithm, ensuring that it follows the correct steps to construct the accurate dependency tree according to the linguistic relations in the sentence.\n",
        "\n",
        "The transition set T for the Arc-Eager algorithm contains four types of transitions:\n",
        "- Transitions LEFT-ARC (for any dependency label l) add a dependency arc (j, l, i) to A, where i is the node on top of the stack σ and j is the first node in the buffer β. In addition, they pop the stack σ. They have as a precondition that the token i is not the artificial root node 0 and does not already have a head.\n",
        "-  Transitions RIGHT-ARC (for any dependency label l) add a dependency arc (i, l, j) to A, where i is the node on top of the stack σ and j is the first node in the buffer β. In addition, they remove the first node j in the buffer β and push it on top of the stack σ. They have as a precondition that the token j does not already have a head.\n",
        "- Transitions REDUCE pop the stack β and are subject to the precondition that the top token has a head.\n",
        "- The transition SHIFT removes the first node i in the buffer β and pushes it on top of the stack σ.\n",
        "\n",
        "We will obtain a set of pairs with the different states plus the correspondent transition to apply for each transition tree."
      ]
    },
    {
      "cell_type": "code",
      "execution_count": null,
      "id": "la1_I7DzQJJu",
      "metadata": {
        "colab": {
          "base_uri": "https://localhost:8080/"
        },
        "id": "la1_I7DzQJJu",
        "outputId": "316e22c8-5492-4640-e318-362ec7f435a4"
      },
      "outputs": [
        {
          "name": "stdout",
          "output_type": "stream",
          "text": [
            "Creating Arc-Eager Oracle...\n",
            "Preprocessing sentences with Arc-Eager Oracle...\n"
          ]
        }
      ],
      "source": [
        "# Create Oracle\n",
        "print(\"Creating Arc-Eager Oracle...\")\n",
        "oracle = Arc_Eager_Oracle()\n",
        "\n",
        "# Get transitions. Each pair (state, transition) is a training sample\n",
        "print(\"Preprocessing sentences with Arc-Eager Oracle...\")\n",
        "train_states,train_transitions = oracle(reference_train_trees)\n",
        "val_states,val_transitions = oracle(reference_val_trees)"
      ]
    },
    {
      "cell_type": "markdown",
      "id": "k3-B17jO9_q7",
      "metadata": {
        "id": "k3-B17jO9_q7"
      },
      "source": [
        "To end with, we apply a preprocessing function to obtain input and target features required for training.\n",
        "- Input features are composed by word forms and POS for the previously specifyied number of elements in both, the stack and the buffer. In case the number elements is not enough, a padding function to a 'None' token is applyied.\n",
        "- Target features are composed by tuples of two elements: the Arc-Eager transition (LEFT-ARC, RIGHT-ARC, REDUCE or SHIFT) and its corresponding dependency relation, if any."
      ]
    },
    {
      "cell_type": "code",
      "execution_count": null,
      "id": "3GW3kTyB9_1a",
      "metadata": {
        "colab": {
          "base_uri": "https://localhost:8080/"
        },
        "id": "3GW3kTyB9_1a",
        "outputId": "2d957a52-22cf-4eaa-a890-517607b8b978"
      },
      "outputs": [
        {
          "name": "stdout",
          "output_type": "stream",
          "text": [
            "Creating input and target samples...\n"
          ]
        }
      ],
      "source": [
        "# Create samples\n",
        "print(\"Creating input and target samples...\")\n",
        "x_train = preprocess_inputs(train_states, form_dict, upos_dict, topology[\"sigma_size\"], topology[\"beta_size\"])\n",
        "y_train = preprocess_targets(train_transitions, deprel_dict, transition_dict) #(transition_targets, relation_targets)\n",
        "\n",
        "x_val = preprocess_inputs(val_states, form_dict, upos_dict, topology[\"sigma_size\"], topology[\"beta_size\"])\n",
        "y_val = preprocess_targets(val_transitions, deprel_dict, transition_dict)\n"
      ]
    },
    {
      "cell_type": "markdown",
      "id": "wSQ5AM5h_u1x",
      "metadata": {
        "id": "wSQ5AM5h_u1x"
      },
      "source": [
        "**3. Train a DP model**\n",
        "\n",
        "Now we create the architecture, compile and train the model."
      ]
    },
    {
      "cell_type": "code",
      "execution_count": null,
      "id": "hUffnj25_u_9",
      "metadata": {
        "colab": {
          "base_uri": "https://localhost:8080/",
          "height": 913,
          "referenced_widgets": [
            "7d0b10c57c514fbbb12280c9d4393e2e",
            "26aa2e9b1c7f4a678049b3b9f4bf00a1",
            "57028ddd7ac7435ea78b848432727c60",
            "985b34820eaa4b9dae7052b26e7adf21",
            "6fd0660b28944600ad6eacada11cdebc",
            "7898fbcf19e542858b64ec9bc509e765",
            "d096500a30be4f13ad7140f91ddcfe02",
            "f1be8cea1b5444049635cd308663a415",
            "738dad7a14354eae82f26498fb453417",
            "75c0dbb63f444f6ca608a5e0e7ba3104",
            "da0bf9ecdc334b3eafb66fca0c178511",
            "71d3b1acd8ef400f9ddf8323b670a9de",
            "7a38580f3e5e49868b8f9a22e48b36ff",
            "c126d67ed19d4c5bb26a3a5fc4ea02fc",
            "a599abfbcc144cd7b382d0e202195fb6",
            "b39a4621c8084a3f839aa7b80800b049",
            "963f6a32e4e04b7aa1b46d73249f5109",
            "509ddc9639eb44a4950dfa80506c8c2e",
            "34abbb23be09467199f3b455d7a641cc",
            "73286ae97b9745d59b210a41a6e1fcff",
            "830b686abe8143189a3fa6725d4407ad",
            "e3f77662e218499987486767fef27e29"
          ]
        },
        "id": "hUffnj25_u_9",
        "outputId": "efd44c81-b375-4593-8d48-a64ed8706978"
      },
      "outputs": [
        {
          "name": "stdout",
          "output_type": "stream",
          "text": [
            "Creating model...\n",
            "Model: \"model_1\"\n",
            "__________________________________________________________________________________________________\n",
            " Layer (type)                Output Shape                 Param #   Connected to                  \n",
            "==================================================================================================\n",
            " input_2 (InputLayer)        [(None, 8)]                  0         []                            \n",
            "                                                                                                  \n",
            " embedding_1 (Embedding)     (None, 8, 2)                 13920     ['input_2[0][0]']             \n",
            "                                                                                                  \n",
            " flatten_1 (Flatten)         (None, 16)                   0         ['embedding_1[0][0]']         \n",
            "                                                                                                  \n",
            " dense_2 (Dense)             (None, 8)                    136       ['flatten_1[0][0]']           \n",
            "                                                                                                  \n",
            " dense_3 (Dense)             (None, 8)                    136       ['flatten_1[0][0]']           \n",
            "                                                                                                  \n",
            " transition_output (Dense)   (None, 4)                    36        ['dense_2[0][0]']             \n",
            "                                                                                                  \n",
            " relation_output (Dense)     (None, 45)                   405       ['dense_3[0][0]']             \n",
            "                                                                                                  \n",
            "==================================================================================================\n",
            "Total params: 14633 (57.16 KB)\n",
            "Trainable params: 14633 (57.16 KB)\n",
            "Non-trainable params: 0 (0.00 Byte)\n",
            "__________________________________________________________________________________________________\n",
            "None\n",
            "TRAINING...\n"
          ]
        },
        {
          "data": {
            "application/vnd.jupyter.widget-view+json": {
              "model_id": "7d0b10c57c514fbbb12280c9d4393e2e",
              "version_major": 2,
              "version_minor": 0
            },
            "text/plain": [
              "0epoch [00:00, ?epoch/s]"
            ]
          },
          "metadata": {},
          "output_type": "display_data"
        },
        {
          "data": {
            "application/vnd.jupyter.widget-view+json": {
              "model_id": "71d3b1acd8ef400f9ddf8323b670a9de",
              "version_major": 2,
              "version_minor": 0
            },
            "text/plain": [
              "0batch [00:00, ?batch/s]"
            ]
          },
          "metadata": {},
          "output_type": "display_data"
        },
        {
          "name": "stdout",
          "output_type": "stream",
          "text": [
            "Epoch 1/15\n",
            "2537/2537 [==============================] - 16s 6ms/step - loss: 2.3187 - transition_output_loss: 0.6989 - relation_output_loss: 1.6198 - transition_output_accuracy: 0.7323 - relation_output_accuracy: 0.5909 - val_loss: 1.6671 - val_transition_output_loss: 0.5108 - val_relation_output_loss: 1.1563 - val_transition_output_accuracy: 0.8092 - val_relation_output_accuracy: 0.6824\n",
            "Epoch 2/15\n",
            "2537/2537 [==============================] - 12s 5ms/step - loss: 1.3954 - transition_output_loss: 0.4636 - relation_output_loss: 0.9318 - transition_output_accuracy: 0.8240 - relation_output_accuracy: 0.7344 - val_loss: 1.4309 - val_transition_output_loss: 0.4911 - val_relation_output_loss: 0.9398 - val_transition_output_accuracy: 0.8170 - val_relation_output_accuracy: 0.7286\n",
            "Epoch 3/15\n",
            "2537/2537 [==============================] - 13s 5ms/step - loss: 1.1963 - transition_output_loss: 0.4295 - relation_output_loss: 0.7668 - transition_output_accuracy: 0.8359 - relation_output_accuracy: 0.7737 - val_loss: 1.3526 - val_transition_output_loss: 0.4922 - val_relation_output_loss: 0.8604 - val_transition_output_accuracy: 0.8162 - val_relation_output_accuracy: 0.7455\n",
            "Epoch 4/15\n",
            "2537/2537 [==============================] - 13s 5ms/step - loss: 1.1058 - transition_output_loss: 0.4113 - relation_output_loss: 0.6945 - transition_output_accuracy: 0.8428 - relation_output_accuracy: 0.7909 - val_loss: 1.3159 - val_transition_output_loss: 0.4926 - val_relation_output_loss: 0.8233 - val_transition_output_accuracy: 0.8156 - val_relation_output_accuracy: 0.7543\n",
            "Epoch 5/15\n",
            "2537/2537 [==============================] - 15s 6ms/step - loss: 1.0512 - transition_output_loss: 0.3989 - relation_output_loss: 0.6522 - transition_output_accuracy: 0.8481 - relation_output_accuracy: 0.8003 - val_loss: 1.2973 - val_transition_output_loss: 0.4935 - val_relation_output_loss: 0.8037 - val_transition_output_accuracy: 0.8170 - val_relation_output_accuracy: 0.7597\n",
            "Epoch 6/15\n",
            "2537/2537 [==============================] - 13s 5ms/step - loss: 1.0130 - transition_output_loss: 0.3896 - relation_output_loss: 0.6235 - transition_output_accuracy: 0.8525 - relation_output_accuracy: 0.8072 - val_loss: 1.2891 - val_transition_output_loss: 0.4964 - val_relation_output_loss: 0.7927 - val_transition_output_accuracy: 0.8156 - val_relation_output_accuracy: 0.7609\n",
            "Epoch 7/15\n",
            "2537/2537 [==============================] - 13s 5ms/step - loss: 0.9835 - transition_output_loss: 0.3822 - relation_output_loss: 0.6014 - transition_output_accuracy: 0.8565 - relation_output_accuracy: 0.8137 - val_loss: 1.2839 - val_transition_output_loss: 0.4986 - val_relation_output_loss: 0.7853 - val_transition_output_accuracy: 0.8186 - val_relation_output_accuracy: 0.7620\n",
            "Epoch 8/15\n",
            "2537/2537 [==============================] - 13s 5ms/step - loss: 0.9592 - transition_output_loss: 0.3757 - relation_output_loss: 0.5835 - transition_output_accuracy: 0.8594 - relation_output_accuracy: 0.8181 - val_loss: 1.2818 - val_transition_output_loss: 0.5001 - val_relation_output_loss: 0.7816 - val_transition_output_accuracy: 0.8184 - val_relation_output_accuracy: 0.7626\n",
            "Epoch 9/15\n",
            "2537/2537 [==============================] - 14s 6ms/step - loss: 0.9386 - transition_output_loss: 0.3700 - relation_output_loss: 0.5686 - transition_output_accuracy: 0.8613 - relation_output_accuracy: 0.8227 - val_loss: 1.2799 - val_transition_output_loss: 0.5005 - val_relation_output_loss: 0.7794 - val_transition_output_accuracy: 0.8188 - val_relation_output_accuracy: 0.7640\n",
            "Epoch 10/15\n",
            "2537/2537 [==============================] - 13s 5ms/step - loss: 0.9210 - transition_output_loss: 0.3648 - relation_output_loss: 0.5562 - transition_output_accuracy: 0.8634 - relation_output_accuracy: 0.8275 - val_loss: 1.2831 - val_transition_output_loss: 0.5041 - val_relation_output_loss: 0.7790 - val_transition_output_accuracy: 0.8208 - val_relation_output_accuracy: 0.7654\n",
            "Epoch 10: early stopping\n"
          ]
        }
      ],
      "source": [
        "# Create DP model architecture\n",
        "print(\"Creating model...\")\n",
        "model = DPModel(form_dict,upos_dict,deprel_dict, transition_dict)\n",
        "model.build_model(topology)\n",
        "\n",
        "# Train\n",
        "print(\"TRAINING...\")\n",
        "history = model.train((x_train,y_train),(x_val,y_val),hyperparameters)"
      ]
    },
    {
      "cell_type": "markdown",
      "id": "oN1uHHyqAfdH",
      "metadata": {
        "id": "oN1uHHyqAfdH"
      },
      "source": [
        "Finally we use the library `pickle` to serialize and save the model class into `/content/Model_output/` to be able to use it in future predictions. Furthermore, we generate plots to visualize the evolution of training and validation loss and accuracy for both outputs."
      ]
    },
    {
      "cell_type": "code",
      "execution_count": null,
      "id": "qf_2Wd_i3Zp1",
      "metadata": {
        "colab": {
          "base_uri": "https://localhost:8080/"
        },
        "id": "qf_2Wd_i3Zp1",
        "outputId": "9ba7caa8-0585-4d46-a7a4-7bee6c29a2d9"
      },
      "outputs": [
        {
          "name": "stdout",
          "output_type": "stream",
          "text": [
            "Saving model as a pickle file...\n"
          ]
        }
      ],
      "source": [
        "# Save model as a pickle file\n",
        "print(\"Saving model as a pickle file...\")\n",
        "if not os.path.exists(str(f\"{modelfolder}\")):\n",
        "    os.makedirs(str(f\"{modelfolder}\"))\n",
        "\n",
        "with open(str(f\"{modelfolder}/{language}.pickle\"), \"wb\") as data_file:\n",
        "    pickle.dump(model,data_file)"
      ]
    },
    {
      "cell_type": "code",
      "execution_count": null,
      "id": "hJm4qaN3Afpd",
      "metadata": {
        "colab": {
          "base_uri": "https://localhost:8080/"
        },
        "id": "hJm4qaN3Afpd",
        "outputId": "922aa23a-d55b-4d47-b1fb-79f566bad3da"
      },
      "outputs": [
        {
          "name": "stdout",
          "output_type": "stream",
          "text": [
            "Generating training plots...\n"
          ]
        }
      ],
      "source": [
        "# Generate training plots\n",
        "print(\"Generating training plots...\")\n",
        "# summarize history for accuracy\n",
        "plt.plot(history.history['relation_output_accuracy'])\n",
        "plt.plot(history.history['val_relation_output_accuracy'])\n",
        "plt.plot(history.history['transition_output_accuracy'])\n",
        "plt.plot(history.history['val_transition_output_accuracy'])\n",
        "plt.title('model accuracy for relation/transition outputs')\n",
        "plt.ylabel('accuracy')\n",
        "plt.xlabel('epoch')\n",
        "plt.legend(['train_relation', 'val_relation','train_transition', 'val_transition'], loc='upper left')\n",
        "#plt.show()\n",
        "\n",
        "# Save plot\n",
        "if not os.path.exists(str(f\"{datafolder}/Plots/{language}\")):\n",
        "    os.makedirs(str(f\"{datafolder}/Plots/{language}\"))\n",
        "plt.savefig(str(f\"{datafolder}/Plots/{language}/Plot_accuracy.png\"))\n",
        "plt.close()\n",
        "\n",
        "# summarize history for loss\n",
        "plt.plot(history.history['relation_output_loss'])\n",
        "plt.plot(history.history['val_relation_output_loss'])\n",
        "plt.plot(history.history['transition_output_loss'])\n",
        "plt.plot(history.history['val_transition_output_loss'])\n",
        "plt.title('model loss')\n",
        "plt.ylabel('loss')\n",
        "plt.xlabel('epoch')\n",
        "plt.legend(['train_relation', 'val_relation','train_transition', 'val_transition'], loc='upper left')\n",
        "#plt.show()\n",
        "\n",
        "# Save plot\n",
        "plt.savefig(str(f\"{datafolder}/Plots/{language}/Plot_loss.png\"))\n",
        "plt.close()"
      ]
    },
    {
      "cell_type": "markdown",
      "id": "BApWsPUNB9A6",
      "metadata": {
        "id": "BApWsPUNB9A6"
      },
      "source": [
        "# 2. EVALUATE A MODEL\n",
        "\n",
        "**(Requirements) Setup the training module:**\n",
        "\n",
        "First of all, you must configure the variables in the following cell to execute the program. Then, you can start the following cells to evaluate the model. An explanation of the different variables is provided below:\n",
        "\n",
        "*   dp_model = Dependency Parsing model previously trained and saved as a pickle file in `Model_outputs` folder to be evaluated\n",
        "*   language_samples = The treebank dataset to be selected\n",
        "\n",
        "\n",
        "\n"
      ]
    },
    {
      "cell_type": "code",
      "execution_count": null,
      "id": "hRwfifEyER4f",
      "metadata": {
        "cellView": "form",
        "id": "hRwfifEyER4f"
      },
      "outputs": [],
      "source": [
        "# SET VARIABLES\n",
        "# @title Evaluation module configuration. Set the following variables\n",
        "# @markdown ### Model configuration\n",
        "dp_model = \"UD_English-ParTUT\" # @param [\"UD_English-ParTUT\",\"UD_English-EWT\",\"UD_Russian-SynTagRus\",\"UD_Spanish-AnCora\"]\n",
        "# @markdown - Note: The trained models must be saved into `/content/Model_output/{model_name}`\n",
        "\n",
        "# @markdown ### Dataset configuration\n",
        "language_samples = \"UD_English-ParTUT\" # @param [\"UD_English-ParTUT\",\"UD_English-EWT\",\"UD_Russian-SynTagRus\",\"UD_Spanish-AnCora\"]"
      ]
    },
    {
      "cell_type": "markdown",
      "id": "HzKUJb7-HMWn",
      "metadata": {
        "id": "HzKUJb7-HMWn"
      },
      "source": [
        "First, we load the previously trained model using `pickle` library."
      ]
    },
    {
      "cell_type": "code",
      "execution_count": null,
      "id": "h259FSLMHLIY",
      "metadata": {
        "colab": {
          "base_uri": "https://localhost:8080/"
        },
        "id": "h259FSLMHLIY",
        "outputId": "4cce5fa1-a613-44fa-e427-146f4c860b7a"
      },
      "outputs": [
        {
          "name": "stdout",
          "output_type": "stream",
          "text": [
            "Loading pickle model...\n"
          ]
        }
      ],
      "source": [
        "# Load model\n",
        "print(\"Loading pickle model...\")\n",
        "with open(str(f\"{modelfolder}/{dp_model}.pickle\"), \"rb\") as data_file:\n",
        "    model = pickle.load(data_file)"
      ]
    },
    {
      "cell_type": "markdown",
      "id": "R3-Mo-Y_FtHF",
      "metadata": {
        "id": "R3-Mo-Y_FtHF"
      },
      "source": [
        "As it was explained in the previous module, we preprocess the treebank dataset. This whole process will return the data structured into pairs with:\n",
        "- States\n",
        "- The correspondent Arc-Eager transition\n",
        "\n"
      ]
    },
    {
      "cell_type": "code",
      "execution_count": null,
      "id": "Hr-5wa-GFtP9",
      "metadata": {
        "colab": {
          "base_uri": "https://localhost:8080/"
        },
        "id": "Hr-5wa-GFtP9",
        "outputId": "57f4f32b-642b-4c2d-b6b2-1542d6bebd21"
      },
      "outputs": [
        {
          "name": "stdout",
          "output_type": "stream",
          "text": [
            "Preprocessing test samples...\n"
          ]
        }
      ],
      "source": [
        "# Preprocess test samples\n",
        "print(\"Preprocessing test samples...\")\n",
        "parser = Conllu_parser()\n",
        "input_str = str(f\"{datafolder}/{language_samples}/test.conllu\")\n",
        "input_preprocessed_str = str(f\"{datafolder}/{language_samples}/test-prep.conllu\")\n",
        "test_sentences = parser(input_str, input_preprocessed_str)"
      ]
    },
    {
      "cell_type": "markdown",
      "id": "FWFQU-LjPAWi",
      "metadata": {
        "id": "FWFQU-LjPAWi"
      },
      "source": [
        "After that, we predict the outputs for the test set."
      ]
    },
    {
      "cell_type": "code",
      "execution_count": null,
      "id": "Li7NAUp2O9-9",
      "metadata": {
        "colab": {
          "base_uri": "https://localhost:8080/"
        },
        "id": "Li7NAUp2O9-9",
        "outputId": "a5e1d20b-1f38-47f2-e566-682554b02b43"
      },
      "outputs": [
        {
          "name": "stdout",
          "output_type": "stream",
          "text": [
            "Making prediction...\n",
            "5/5 [==============================] - 0s 2ms/step\n",
            "5/5 [==============================] - 0s 2ms/step\n",
            "5/5 [==============================] - 0s 2ms/step\n",
            "5/5 [==============================] - 0s 2ms/step\n",
            "5/5 [==============================] - 0s 3ms/step\n",
            "5/5 [==============================] - 0s 5ms/step\n",
            "5/5 [==============================] - 0s 3ms/step\n",
            "5/5 [==============================] - 0s 3ms/step\n",
            "5/5 [==============================] - 0s 2ms/step\n",
            "5/5 [==============================] - 0s 2ms/step\n",
            "5/5 [==============================] - 0s 2ms/step\n",
            "5/5 [==============================] - 0s 2ms/step\n",
            "5/5 [==============================] - 0s 2ms/step\n",
            "5/5 [==============================] - 0s 2ms/step\n",
            "5/5 [==============================] - 0s 13ms/step\n",
            "5/5 [==============================] - 0s 2ms/step\n",
            "5/5 [==============================] - 0s 2ms/step\n",
            "5/5 [==============================] - 0s 2ms/step\n",
            "5/5 [==============================] - 0s 2ms/step\n",
            "5/5 [==============================] - 0s 3ms/step\n",
            "5/5 [==============================] - 0s 2ms/step\n",
            "5/5 [==============================] - 0s 2ms/step\n",
            "5/5 [==============================] - 0s 2ms/step\n",
            "5/5 [==============================] - 0s 2ms/step\n",
            "4/4 [==============================] - 0s 3ms/step\n",
            "4/4 [==============================] - 0s 3ms/step\n",
            "4/4 [==============================] - 0s 3ms/step\n",
            "4/4 [==============================] - 0s 3ms/step\n",
            "4/4 [==============================] - 0s 3ms/step\n",
            "4/4 [==============================] - 0s 3ms/step\n",
            "4/4 [==============================] - 0s 3ms/step\n",
            "4/4 [==============================] - 0s 3ms/step\n",
            "4/4 [==============================] - 0s 2ms/step\n",
            "4/4 [==============================] - 0s 3ms/step\n",
            "3/3 [==============================] - 0s 3ms/step\n",
            "3/3 [==============================] - 0s 3ms/step\n",
            "3/3 [==============================] - 0s 3ms/step\n",
            "3/3 [==============================] - 0s 4ms/step\n",
            "3/3 [==============================] - 0s 3ms/step\n",
            "3/3 [==============================] - 0s 3ms/step\n",
            "3/3 [==============================] - 0s 4ms/step\n",
            "3/3 [==============================] - 0s 4ms/step\n",
            "2/2 [==============================] - 0s 7ms/step\n",
            "2/2 [==============================] - 0s 4ms/step\n",
            "2/2 [==============================] - 0s 4ms/step\n",
            "2/2 [==============================] - 0s 4ms/step\n",
            "2/2 [==============================] - 0s 4ms/step\n",
            "2/2 [==============================] - 0s 5ms/step\n",
            "2/2 [==============================] - 0s 8ms/step\n",
            "2/2 [==============================] - 0s 8ms/step\n",
            "2/2 [==============================] - 0s 6ms/step\n",
            "2/2 [==============================] - 0s 4ms/step\n",
            "2/2 [==============================] - 0s 4ms/step\n",
            "2/2 [==============================] - 0s 4ms/step\n",
            "1/1 [==============================] - 0s 27ms/step\n",
            "1/1 [==============================] - 0s 27ms/step\n",
            "1/1 [==============================] - 0s 27ms/step\n",
            "1/1 [==============================] - 0s 29ms/step\n",
            "1/1 [==============================] - 0s 27ms/step\n",
            "1/1 [==============================] - 0s 29ms/step\n",
            "1/1 [==============================] - 0s 28ms/step\n",
            "1/1 [==============================] - 0s 32ms/step\n",
            "1/1 [==============================] - 0s 23ms/step\n",
            "1/1 [==============================] - 0s 29ms/step\n",
            "1/1 [==============================] - 0s 24ms/step\n",
            "1/1 [==============================] - 0s 23ms/step\n",
            "1/1 [==============================] - 0s 26ms/step\n",
            "1/1 [==============================] - 0s 25ms/step\n",
            "1/1 [==============================] - 0s 25ms/step\n",
            "1/1 [==============================] - 0s 25ms/step\n",
            "1/1 [==============================] - 0s 24ms/step\n",
            "1/1 [==============================] - 0s 28ms/step\n",
            "1/1 [==============================] - 0s 24ms/step\n",
            "1/1 [==============================] - 0s 25ms/step\n",
            "1/1 [==============================] - 0s 25ms/step\n",
            "1/1 [==============================] - 0s 28ms/step\n",
            "1/1 [==============================] - 0s 24ms/step\n",
            "1/1 [==============================] - 0s 26ms/step\n",
            "1/1 [==============================] - 0s 30ms/step\n",
            "1/1 [==============================] - 0s 16ms/step\n",
            "1/1 [==============================] - 0s 17ms/step\n",
            "1/1 [==============================] - 0s 17ms/step\n",
            "1/1 [==============================] - 0s 16ms/step\n",
            "1/1 [==============================] - 0s 16ms/step\n",
            "1/1 [==============================] - 0s 17ms/step\n",
            "1/1 [==============================] - 0s 18ms/step\n",
            "1/1 [==============================] - 0s 16ms/step\n",
            "1/1 [==============================] - 0s 16ms/step\n",
            "1/1 [==============================] - 0s 21ms/step\n",
            "1/1 [==============================] - 0s 17ms/step\n",
            "1/1 [==============================] - 0s 17ms/step\n",
            "1/1 [==============================] - 0s 16ms/step\n",
            "1/1 [==============================] - 0s 16ms/step\n",
            "1/1 [==============================] - 0s 16ms/step\n",
            "1/1 [==============================] - 0s 16ms/step\n",
            "1/1 [==============================] - 0s 18ms/step\n",
            "1/1 [==============================] - 0s 17ms/step\n",
            "1/1 [==============================] - 0s 16ms/step\n",
            "1/1 [==============================] - 0s 16ms/step\n",
            "1/1 [==============================] - 0s 16ms/step\n",
            "1/1 [==============================] - 0s 16ms/step\n",
            "1/1 [==============================] - 0s 17ms/step\n",
            "1/1 [==============================] - 0s 20ms/step\n",
            "1/1 [==============================] - 0s 17ms/step\n",
            "1/1 [==============================] - 0s 16ms/step\n",
            "1/1 [==============================] - 0s 17ms/step\n",
            "1/1 [==============================] - 0s 16ms/step\n",
            "1/1 [==============================] - 0s 17ms/step\n",
            "1/1 [==============================] - 0s 18ms/step\n",
            "1/1 [==============================] - 0s 16ms/step\n",
            "1/1 [==============================] - 0s 16ms/step\n",
            "1/1 [==============================] - 0s 17ms/step\n",
            "1/1 [==============================] - 0s 16ms/step\n",
            "1/1 [==============================] - 0s 17ms/step\n",
            "1/1 [==============================] - 0s 17ms/step\n",
            "1/1 [==============================] - 0s 16ms/step\n",
            "1/1 [==============================] - 0s 16ms/step\n",
            "1/1 [==============================] - 0s 16ms/step\n",
            "1/1 [==============================] - 0s 16ms/step\n",
            "1/1 [==============================] - 0s 17ms/step\n",
            "1/1 [==============================] - 0s 17ms/step\n",
            "1/1 [==============================] - 0s 17ms/step\n",
            "1/1 [==============================] - 0s 16ms/step\n",
            "1/1 [==============================] - 0s 24ms/step\n",
            "1/1 [==============================] - 0s 16ms/step\n",
            "1/1 [==============================] - 0s 17ms/step\n",
            "1/1 [==============================] - 0s 49ms/step\n",
            "1/1 [==============================] - 0s 16ms/step\n",
            "1/1 [==============================] - 0s 16ms/step\n",
            "1/1 [==============================] - 0s 18ms/step\n",
            "1/1 [==============================] - 0s 16ms/step\n",
            "1/1 [==============================] - 0s 16ms/step\n",
            "1/1 [==============================] - 0s 16ms/step\n",
            "1/1 [==============================] - 0s 17ms/step\n",
            "1/1 [==============================] - 0s 16ms/step\n",
            "1/1 [==============================] - 0s 16ms/step\n",
            "1/1 [==============================] - 0s 16ms/step\n",
            "1/1 [==============================] - 0s 16ms/step\n",
            "1/1 [==============================] - 0s 16ms/step\n",
            "1/1 [==============================] - 0s 16ms/step\n",
            "1/1 [==============================] - 0s 17ms/step\n",
            "1/1 [==============================] - 0s 24ms/step\n",
            "1/1 [==============================] - 0s 17ms/step\n",
            "1/1 [==============================] - 0s 17ms/step\n",
            "1/1 [==============================] - 0s 17ms/step\n",
            "1/1 [==============================] - 0s 17ms/step\n",
            "1/1 [==============================] - 0s 25ms/step\n",
            "1/1 [==============================] - 0s 17ms/step\n",
            "1/1 [==============================] - 0s 17ms/step\n",
            "1/1 [==============================] - 0s 17ms/step\n",
            "1/1 [==============================] - 0s 19ms/step\n",
            "1/1 [==============================] - 0s 16ms/step\n",
            "1/1 [==============================] - 0s 16ms/step\n",
            "1/1 [==============================] - 0s 16ms/step\n",
            "1/1 [==============================] - 0s 16ms/step\n",
            "1/1 [==============================] - 0s 16ms/step\n",
            "1/1 [==============================] - 0s 16ms/step\n",
            "1/1 [==============================] - 0s 16ms/step\n",
            "1/1 [==============================] - 0s 17ms/step\n",
            "1/1 [==============================] - 0s 18ms/step\n"
          ]
        }
      ],
      "source": [
        "# Get output Dependency tree\n",
        "print(\"Making prediction...\")\n",
        "output_trees = model.predict(test_sentences)"
      ]
    },
    {
      "cell_type": "markdown",
      "id": "I_suvwP-O9yi",
      "metadata": {
        "id": "I_suvwP-O9yi"
      },
      "source": [
        "After that, we apply a set of heuristics to clean the output trees since it is possible that when making predictions we may obtain a corrupted tree."
      ]
    },
    {
      "cell_type": "code",
      "execution_count": null,
      "id": "N9KH7oZbPDby",
      "metadata": {
        "colab": {
          "base_uri": "https://localhost:8080/"
        },
        "id": "N9KH7oZbPDby",
        "outputId": "5177c4aa-ba9c-4f77-f65e-ad83d3821755"
      },
      "outputs": [
        {
          "name": "stdout",
          "output_type": "stream",
          "text": [
            "Applying heuristics...\n"
          ]
        }
      ],
      "source": [
        "print(\"Applying heuristics...\")\n",
        "output_trees_corrected = apply_heuristics(test_sentences,output_trees)"
      ]
    },
    {
      "cell_type": "markdown",
      "id": "Ng7-xDzwPJSt",
      "metadata": {
        "id": "Ng7-xDzwPJSt"
      },
      "source": [
        "Finally, we execute the official evaluation script conll18_ud_eval.py, which\n",
        "is available at: https://universaldependencies.org/conll18/evaluation.html.\n",
        "\n",
        "Note the script only accepts valid output in the CoNLL-U format for all test sets.\n",
        "\n",
        "In this way, we will obtain several performance metrics. For our use case we are interested in LAS (Labeled Attachment Score) and UAS (Unlabeled Attachment Score).\n"
      ]
    },
    {
      "cell_type": "code",
      "execution_count": null,
      "id": "5oQHCbpyPIXe",
      "metadata": {
        "colab": {
          "base_uri": "https://localhost:8080/"
        },
        "id": "5oQHCbpyPIXe",
        "outputId": "b3c4b281-fea9-48db-c926-49fe33363217"
      },
      "outputs": [
        {
          "name": "stdout",
          "output_type": "stream",
          "text": [
            "Writing output CoNLL-U file...\n",
            "Evaluating results...\n",
            "Metric     | Precision |    Recall |  F1 Score | AligndAcc\n",
            "-----------+-----------+-----------+-----------+-----------\n",
            "Tokens     |    100.00 |    100.00 |    100.00 |\n",
            "Sentences  |    100.00 |    100.00 |    100.00 |\n",
            "Words      |    100.00 |    100.00 |    100.00 |\n",
            "UPOS       |    100.00 |    100.00 |    100.00 |    100.00\n",
            "XPOS       |    100.00 |    100.00 |    100.00 |    100.00\n",
            "UFeats     |    100.00 |    100.00 |    100.00 |    100.00\n",
            "AllTags    |    100.00 |    100.00 |    100.00 |    100.00\n",
            "Lemmas     |    100.00 |    100.00 |    100.00 |    100.00\n",
            "UAS        |     69.63 |     69.63 |     69.63 |     69.63\n",
            "LAS        |     57.60 |     57.60 |     57.60 |     57.60\n",
            "CLAS       |     45.99 |     41.27 |     43.50 |     41.27\n",
            "MLAS       |     43.55 |     39.08 |     41.20 |     39.08\n",
            "BLEX       |     45.99 |     41.27 |     43.50 |     41.27\n",
            "\n",
            "\n"
          ]
        }
      ],
      "source": [
        "print(\"Writing output CoNLL-U file...\")\n",
        "writer = Conllu_writer()\n",
        "output_str = str(f\"{datafolder}/{language_samples}/test-results.conllu\")\n",
        "writer(output_str,test_sentences,output_trees_corrected)\n",
        "\n",
        "print(\"Evaluating results...\")\n",
        "eval=str(f\"{workspace_folder}/src/conll18_ud_eval.py\")\n",
        "comand = [\"python\", eval, input_preprocessed_str, output_str, \"-v\"]\n",
        "result = subprocess.run(comand, capture_output=True, text=True)\n",
        "print(result.stdout)\n",
        "print(result.stderr)"
      ]
    }
  ],
  "metadata": {
    "accelerator": "GPU",
    "colab": {
      "gpuType": "T4",
      "provenance": []
    },
    "kernelspec": {
      "display_name": "Python 3",
      "name": "python3"
    },
    "language_info": {
      "codemirror_mode": {
        "name": "ipython",
        "version": 3
      },
      "file_extension": ".py",
      "mimetype": "text/x-python",
      "name": "python",
      "nbconvert_exporter": "python",
      "pygments_lexer": "ipython3",
      "version": "3.10.5"
    },
    "widgets": {
      "application/vnd.jupyter.widget-state+json": {
        "26aa2e9b1c7f4a678049b3b9f4bf00a1": {
          "model_module": "@jupyter-widgets/controls",
          "model_module_version": "1.5.0",
          "model_name": "HTMLModel",
          "state": {
            "_dom_classes": [],
            "_model_module": "@jupyter-widgets/controls",
            "_model_module_version": "1.5.0",
            "_model_name": "HTMLModel",
            "_view_count": null,
            "_view_module": "@jupyter-widgets/controls",
            "_view_module_version": "1.5.0",
            "_view_name": "HTMLView",
            "description": "",
            "description_tooltip": null,
            "layout": "IPY_MODEL_7898fbcf19e542858b64ec9bc509e765",
            "placeholder": "​",
            "style": "IPY_MODEL_d096500a30be4f13ad7140f91ddcfe02",
            "value": " 67%"
          }
        },
        "34abbb23be09467199f3b455d7a641cc": {
          "model_module": "@jupyter-widgets/base",
          "model_module_version": "1.2.0",
          "model_name": "LayoutModel",
          "state": {
            "_model_module": "@jupyter-widgets/base",
            "_model_module_version": "1.2.0",
            "_model_name": "LayoutModel",
            "_view_count": null,
            "_view_module": "@jupyter-widgets/base",
            "_view_module_version": "1.2.0",
            "_view_name": "LayoutView",
            "align_content": null,
            "align_items": null,
            "align_self": null,
            "border": null,
            "bottom": null,
            "display": null,
            "flex": null,
            "flex_flow": null,
            "grid_area": null,
            "grid_auto_columns": null,
            "grid_auto_flow": null,
            "grid_auto_rows": null,
            "grid_column": null,
            "grid_gap": null,
            "grid_row": null,
            "grid_template_areas": null,
            "grid_template_columns": null,
            "grid_template_rows": null,
            "height": null,
            "justify_content": null,
            "justify_items": null,
            "left": null,
            "margin": null,
            "max_height": null,
            "max_width": null,
            "min_height": null,
            "min_width": null,
            "object_fit": null,
            "object_position": null,
            "order": null,
            "overflow": null,
            "overflow_x": null,
            "overflow_y": null,
            "padding": null,
            "right": null,
            "top": null,
            "visibility": null,
            "width": null
          }
        },
        "509ddc9639eb44a4950dfa80506c8c2e": {
          "model_module": "@jupyter-widgets/controls",
          "model_module_version": "1.5.0",
          "model_name": "DescriptionStyleModel",
          "state": {
            "_model_module": "@jupyter-widgets/controls",
            "_model_module_version": "1.5.0",
            "_model_name": "DescriptionStyleModel",
            "_view_count": null,
            "_view_module": "@jupyter-widgets/base",
            "_view_module_version": "1.2.0",
            "_view_name": "StyleView",
            "description_width": ""
          }
        },
        "57028ddd7ac7435ea78b848432727c60": {
          "model_module": "@jupyter-widgets/controls",
          "model_module_version": "1.5.0",
          "model_name": "FloatProgressModel",
          "state": {
            "_dom_classes": [],
            "_model_module": "@jupyter-widgets/controls",
            "_model_module_version": "1.5.0",
            "_model_name": "FloatProgressModel",
            "_view_count": null,
            "_view_module": "@jupyter-widgets/controls",
            "_view_module_version": "1.5.0",
            "_view_name": "ProgressView",
            "bar_style": "danger",
            "description": "",
            "description_tooltip": null,
            "layout": "IPY_MODEL_f1be8cea1b5444049635cd308663a415",
            "max": 15,
            "min": 0,
            "orientation": "horizontal",
            "style": "IPY_MODEL_738dad7a14354eae82f26498fb453417",
            "value": 10
          }
        },
        "6fd0660b28944600ad6eacada11cdebc": {
          "model_module": "@jupyter-widgets/base",
          "model_module_version": "1.2.0",
          "model_name": "LayoutModel",
          "state": {
            "_model_module": "@jupyter-widgets/base",
            "_model_module_version": "1.2.0",
            "_model_name": "LayoutModel",
            "_view_count": null,
            "_view_module": "@jupyter-widgets/base",
            "_view_module_version": "1.2.0",
            "_view_name": "LayoutView",
            "align_content": null,
            "align_items": null,
            "align_self": null,
            "border": null,
            "bottom": null,
            "display": null,
            "flex": null,
            "flex_flow": null,
            "grid_area": null,
            "grid_auto_columns": null,
            "grid_auto_flow": null,
            "grid_auto_rows": null,
            "grid_column": null,
            "grid_gap": null,
            "grid_row": null,
            "grid_template_areas": null,
            "grid_template_columns": null,
            "grid_template_rows": null,
            "height": null,
            "justify_content": null,
            "justify_items": null,
            "left": null,
            "margin": null,
            "max_height": null,
            "max_width": null,
            "min_height": null,
            "min_width": null,
            "object_fit": null,
            "object_position": null,
            "order": null,
            "overflow": null,
            "overflow_x": null,
            "overflow_y": null,
            "padding": null,
            "right": null,
            "top": null,
            "visibility": null,
            "width": null
          }
        },
        "71d3b1acd8ef400f9ddf8323b670a9de": {
          "model_module": "@jupyter-widgets/controls",
          "model_module_version": "1.5.0",
          "model_name": "HBoxModel",
          "state": {
            "_dom_classes": [],
            "_model_module": "@jupyter-widgets/controls",
            "_model_module_version": "1.5.0",
            "_model_name": "HBoxModel",
            "_view_count": null,
            "_view_module": "@jupyter-widgets/controls",
            "_view_module_version": "1.5.0",
            "_view_name": "HBoxView",
            "box_style": "",
            "children": [
              "IPY_MODEL_7a38580f3e5e49868b8f9a22e48b36ff",
              "IPY_MODEL_c126d67ed19d4c5bb26a3a5fc4ea02fc",
              "IPY_MODEL_a599abfbcc144cd7b382d0e202195fb6"
            ],
            "layout": "IPY_MODEL_b39a4621c8084a3f839aa7b80800b049"
          }
        },
        "73286ae97b9745d59b210a41a6e1fcff": {
          "model_module": "@jupyter-widgets/controls",
          "model_module_version": "1.5.0",
          "model_name": "ProgressStyleModel",
          "state": {
            "_model_module": "@jupyter-widgets/controls",
            "_model_module_version": "1.5.0",
            "_model_name": "ProgressStyleModel",
            "_view_count": null,
            "_view_module": "@jupyter-widgets/base",
            "_view_module_version": "1.2.0",
            "_view_name": "StyleView",
            "bar_color": null,
            "description_width": ""
          }
        },
        "738dad7a14354eae82f26498fb453417": {
          "model_module": "@jupyter-widgets/controls",
          "model_module_version": "1.5.0",
          "model_name": "ProgressStyleModel",
          "state": {
            "_model_module": "@jupyter-widgets/controls",
            "_model_module_version": "1.5.0",
            "_model_name": "ProgressStyleModel",
            "_view_count": null,
            "_view_module": "@jupyter-widgets/base",
            "_view_module_version": "1.2.0",
            "_view_name": "StyleView",
            "bar_color": null,
            "description_width": ""
          }
        },
        "75c0dbb63f444f6ca608a5e0e7ba3104": {
          "model_module": "@jupyter-widgets/base",
          "model_module_version": "1.2.0",
          "model_name": "LayoutModel",
          "state": {
            "_model_module": "@jupyter-widgets/base",
            "_model_module_version": "1.2.0",
            "_model_name": "LayoutModel",
            "_view_count": null,
            "_view_module": "@jupyter-widgets/base",
            "_view_module_version": "1.2.0",
            "_view_name": "LayoutView",
            "align_content": null,
            "align_items": null,
            "align_self": null,
            "border": null,
            "bottom": null,
            "display": null,
            "flex": null,
            "flex_flow": null,
            "grid_area": null,
            "grid_auto_columns": null,
            "grid_auto_flow": null,
            "grid_auto_rows": null,
            "grid_column": null,
            "grid_gap": null,
            "grid_row": null,
            "grid_template_areas": null,
            "grid_template_columns": null,
            "grid_template_rows": null,
            "height": null,
            "justify_content": null,
            "justify_items": null,
            "left": null,
            "margin": null,
            "max_height": null,
            "max_width": null,
            "min_height": null,
            "min_width": null,
            "object_fit": null,
            "object_position": null,
            "order": null,
            "overflow": null,
            "overflow_x": null,
            "overflow_y": null,
            "padding": null,
            "right": null,
            "top": null,
            "visibility": null,
            "width": null
          }
        },
        "7898fbcf19e542858b64ec9bc509e765": {
          "model_module": "@jupyter-widgets/base",
          "model_module_version": "1.2.0",
          "model_name": "LayoutModel",
          "state": {
            "_model_module": "@jupyter-widgets/base",
            "_model_module_version": "1.2.0",
            "_model_name": "LayoutModel",
            "_view_count": null,
            "_view_module": "@jupyter-widgets/base",
            "_view_module_version": "1.2.0",
            "_view_name": "LayoutView",
            "align_content": null,
            "align_items": null,
            "align_self": null,
            "border": null,
            "bottom": null,
            "display": null,
            "flex": null,
            "flex_flow": null,
            "grid_area": null,
            "grid_auto_columns": null,
            "grid_auto_flow": null,
            "grid_auto_rows": null,
            "grid_column": null,
            "grid_gap": null,
            "grid_row": null,
            "grid_template_areas": null,
            "grid_template_columns": null,
            "grid_template_rows": null,
            "height": null,
            "justify_content": null,
            "justify_items": null,
            "left": null,
            "margin": null,
            "max_height": null,
            "max_width": null,
            "min_height": null,
            "min_width": null,
            "object_fit": null,
            "object_position": null,
            "order": null,
            "overflow": null,
            "overflow_x": null,
            "overflow_y": null,
            "padding": null,
            "right": null,
            "top": null,
            "visibility": null,
            "width": null
          }
        },
        "7a38580f3e5e49868b8f9a22e48b36ff": {
          "model_module": "@jupyter-widgets/controls",
          "model_module_version": "1.5.0",
          "model_name": "HTMLModel",
          "state": {
            "_dom_classes": [],
            "_model_module": "@jupyter-widgets/controls",
            "_model_module_version": "1.5.0",
            "_model_name": "HTMLModel",
            "_view_count": null,
            "_view_module": "@jupyter-widgets/controls",
            "_view_module_version": "1.5.0",
            "_view_name": "HTMLView",
            "description": "",
            "description_tooltip": null,
            "layout": "IPY_MODEL_963f6a32e4e04b7aa1b46d73249f5109",
            "placeholder": "​",
            "style": "IPY_MODEL_509ddc9639eb44a4950dfa80506c8c2e",
            "value": "100%"
          }
        },
        "7d0b10c57c514fbbb12280c9d4393e2e": {
          "model_module": "@jupyter-widgets/controls",
          "model_module_version": "1.5.0",
          "model_name": "HBoxModel",
          "state": {
            "_dom_classes": [],
            "_model_module": "@jupyter-widgets/controls",
            "_model_module_version": "1.5.0",
            "_model_name": "HBoxModel",
            "_view_count": null,
            "_view_module": "@jupyter-widgets/controls",
            "_view_module_version": "1.5.0",
            "_view_name": "HBoxView",
            "box_style": "",
            "children": [
              "IPY_MODEL_26aa2e9b1c7f4a678049b3b9f4bf00a1",
              "IPY_MODEL_57028ddd7ac7435ea78b848432727c60",
              "IPY_MODEL_985b34820eaa4b9dae7052b26e7adf21"
            ],
            "layout": "IPY_MODEL_6fd0660b28944600ad6eacada11cdebc"
          }
        },
        "830b686abe8143189a3fa6725d4407ad": {
          "model_module": "@jupyter-widgets/base",
          "model_module_version": "1.2.0",
          "model_name": "LayoutModel",
          "state": {
            "_model_module": "@jupyter-widgets/base",
            "_model_module_version": "1.2.0",
            "_model_name": "LayoutModel",
            "_view_count": null,
            "_view_module": "@jupyter-widgets/base",
            "_view_module_version": "1.2.0",
            "_view_name": "LayoutView",
            "align_content": null,
            "align_items": null,
            "align_self": null,
            "border": null,
            "bottom": null,
            "display": null,
            "flex": null,
            "flex_flow": null,
            "grid_area": null,
            "grid_auto_columns": null,
            "grid_auto_flow": null,
            "grid_auto_rows": null,
            "grid_column": null,
            "grid_gap": null,
            "grid_row": null,
            "grid_template_areas": null,
            "grid_template_columns": null,
            "grid_template_rows": null,
            "height": null,
            "justify_content": null,
            "justify_items": null,
            "left": null,
            "margin": null,
            "max_height": null,
            "max_width": null,
            "min_height": null,
            "min_width": null,
            "object_fit": null,
            "object_position": null,
            "order": null,
            "overflow": null,
            "overflow_x": null,
            "overflow_y": null,
            "padding": null,
            "right": null,
            "top": null,
            "visibility": null,
            "width": null
          }
        },
        "963f6a32e4e04b7aa1b46d73249f5109": {
          "model_module": "@jupyter-widgets/base",
          "model_module_version": "1.2.0",
          "model_name": "LayoutModel",
          "state": {
            "_model_module": "@jupyter-widgets/base",
            "_model_module_version": "1.2.0",
            "_model_name": "LayoutModel",
            "_view_count": null,
            "_view_module": "@jupyter-widgets/base",
            "_view_module_version": "1.2.0",
            "_view_name": "LayoutView",
            "align_content": null,
            "align_items": null,
            "align_self": null,
            "border": null,
            "bottom": null,
            "display": null,
            "flex": null,
            "flex_flow": null,
            "grid_area": null,
            "grid_auto_columns": null,
            "grid_auto_flow": null,
            "grid_auto_rows": null,
            "grid_column": null,
            "grid_gap": null,
            "grid_row": null,
            "grid_template_areas": null,
            "grid_template_columns": null,
            "grid_template_rows": null,
            "height": null,
            "justify_content": null,
            "justify_items": null,
            "left": null,
            "margin": null,
            "max_height": null,
            "max_width": null,
            "min_height": null,
            "min_width": null,
            "object_fit": null,
            "object_position": null,
            "order": null,
            "overflow": null,
            "overflow_x": null,
            "overflow_y": null,
            "padding": null,
            "right": null,
            "top": null,
            "visibility": null,
            "width": null
          }
        },
        "985b34820eaa4b9dae7052b26e7adf21": {
          "model_module": "@jupyter-widgets/controls",
          "model_module_version": "1.5.0",
          "model_name": "HTMLModel",
          "state": {
            "_dom_classes": [],
            "_model_module": "@jupyter-widgets/controls",
            "_model_module_version": "1.5.0",
            "_model_name": "HTMLModel",
            "_view_count": null,
            "_view_module": "@jupyter-widgets/controls",
            "_view_module_version": "1.5.0",
            "_view_name": "HTMLView",
            "description": "",
            "description_tooltip": null,
            "layout": "IPY_MODEL_75c0dbb63f444f6ca608a5e0e7ba3104",
            "placeholder": "​",
            "style": "IPY_MODEL_da0bf9ecdc334b3eafb66fca0c178511",
            "value": " 10/15 [02:33&lt;01:10, 14.11s/epoch, loss=0.921, transition_output_loss=0.365, relation_output_loss=0.556, transition_output_accuracy=0.863, relation_output_accuracy=0.827, val_loss=1.28, val_transition_output_loss=0.504, val_relation_output_loss=0.779, val_transition_output_accuracy=0.821, val_relation_output_accuracy=0.765]"
          }
        },
        "a599abfbcc144cd7b382d0e202195fb6": {
          "model_module": "@jupyter-widgets/controls",
          "model_module_version": "1.5.0",
          "model_name": "HTMLModel",
          "state": {
            "_dom_classes": [],
            "_model_module": "@jupyter-widgets/controls",
            "_model_module_version": "1.5.0",
            "_model_name": "HTMLModel",
            "_view_count": null,
            "_view_module": "@jupyter-widgets/controls",
            "_view_module_version": "1.5.0",
            "_view_name": "HTMLView",
            "description": "",
            "description_tooltip": null,
            "layout": "IPY_MODEL_830b686abe8143189a3fa6725d4407ad",
            "placeholder": "​",
            "style": "IPY_MODEL_e3f77662e218499987486767fef27e29",
            "value": " 2.53k/2.54k [00:12&lt;00:00, 156batch/s, loss=0.921, transition_output_loss=0.365, relation_output_loss=0.556, transition_output_accuracy=0.863, relation_output_accuracy=0.827]"
          }
        },
        "b39a4621c8084a3f839aa7b80800b049": {
          "model_module": "@jupyter-widgets/base",
          "model_module_version": "1.2.0",
          "model_name": "LayoutModel",
          "state": {
            "_model_module": "@jupyter-widgets/base",
            "_model_module_version": "1.2.0",
            "_model_name": "LayoutModel",
            "_view_count": null,
            "_view_module": "@jupyter-widgets/base",
            "_view_module_version": "1.2.0",
            "_view_name": "LayoutView",
            "align_content": null,
            "align_items": null,
            "align_self": null,
            "border": null,
            "bottom": null,
            "display": null,
            "flex": null,
            "flex_flow": null,
            "grid_area": null,
            "grid_auto_columns": null,
            "grid_auto_flow": null,
            "grid_auto_rows": null,
            "grid_column": null,
            "grid_gap": null,
            "grid_row": null,
            "grid_template_areas": null,
            "grid_template_columns": null,
            "grid_template_rows": null,
            "height": null,
            "justify_content": null,
            "justify_items": null,
            "left": null,
            "margin": null,
            "max_height": null,
            "max_width": null,
            "min_height": null,
            "min_width": null,
            "object_fit": null,
            "object_position": null,
            "order": null,
            "overflow": null,
            "overflow_x": null,
            "overflow_y": null,
            "padding": null,
            "right": null,
            "top": null,
            "visibility": "hidden",
            "width": null
          }
        },
        "c126d67ed19d4c5bb26a3a5fc4ea02fc": {
          "model_module": "@jupyter-widgets/controls",
          "model_module_version": "1.5.0",
          "model_name": "FloatProgressModel",
          "state": {
            "_dom_classes": [],
            "_model_module": "@jupyter-widgets/controls",
            "_model_module_version": "1.5.0",
            "_model_name": "FloatProgressModel",
            "_view_count": null,
            "_view_module": "@jupyter-widgets/controls",
            "_view_module_version": "1.5.0",
            "_view_name": "ProgressView",
            "bar_style": "",
            "description": "",
            "description_tooltip": null,
            "layout": "IPY_MODEL_34abbb23be09467199f3b455d7a641cc",
            "max": 2537,
            "min": 0,
            "orientation": "horizontal",
            "style": "IPY_MODEL_73286ae97b9745d59b210a41a6e1fcff",
            "value": 2537
          }
        },
        "d096500a30be4f13ad7140f91ddcfe02": {
          "model_module": "@jupyter-widgets/controls",
          "model_module_version": "1.5.0",
          "model_name": "DescriptionStyleModel",
          "state": {
            "_model_module": "@jupyter-widgets/controls",
            "_model_module_version": "1.5.0",
            "_model_name": "DescriptionStyleModel",
            "_view_count": null,
            "_view_module": "@jupyter-widgets/base",
            "_view_module_version": "1.2.0",
            "_view_name": "StyleView",
            "description_width": ""
          }
        },
        "da0bf9ecdc334b3eafb66fca0c178511": {
          "model_module": "@jupyter-widgets/controls",
          "model_module_version": "1.5.0",
          "model_name": "DescriptionStyleModel",
          "state": {
            "_model_module": "@jupyter-widgets/controls",
            "_model_module_version": "1.5.0",
            "_model_name": "DescriptionStyleModel",
            "_view_count": null,
            "_view_module": "@jupyter-widgets/base",
            "_view_module_version": "1.2.0",
            "_view_name": "StyleView",
            "description_width": ""
          }
        },
        "e3f77662e218499987486767fef27e29": {
          "model_module": "@jupyter-widgets/controls",
          "model_module_version": "1.5.0",
          "model_name": "DescriptionStyleModel",
          "state": {
            "_model_module": "@jupyter-widgets/controls",
            "_model_module_version": "1.5.0",
            "_model_name": "DescriptionStyleModel",
            "_view_count": null,
            "_view_module": "@jupyter-widgets/base",
            "_view_module_version": "1.2.0",
            "_view_name": "StyleView",
            "description_width": ""
          }
        },
        "f1be8cea1b5444049635cd308663a415": {
          "model_module": "@jupyter-widgets/base",
          "model_module_version": "1.2.0",
          "model_name": "LayoutModel",
          "state": {
            "_model_module": "@jupyter-widgets/base",
            "_model_module_version": "1.2.0",
            "_model_name": "LayoutModel",
            "_view_count": null,
            "_view_module": "@jupyter-widgets/base",
            "_view_module_version": "1.2.0",
            "_view_name": "LayoutView",
            "align_content": null,
            "align_items": null,
            "align_self": null,
            "border": null,
            "bottom": null,
            "display": null,
            "flex": null,
            "flex_flow": null,
            "grid_area": null,
            "grid_auto_columns": null,
            "grid_auto_flow": null,
            "grid_auto_rows": null,
            "grid_column": null,
            "grid_gap": null,
            "grid_row": null,
            "grid_template_areas": null,
            "grid_template_columns": null,
            "grid_template_rows": null,
            "height": null,
            "justify_content": null,
            "justify_items": null,
            "left": null,
            "margin": null,
            "max_height": null,
            "max_width": null,
            "min_height": null,
            "min_width": null,
            "object_fit": null,
            "object_position": null,
            "order": null,
            "overflow": null,
            "overflow_x": null,
            "overflow_y": null,
            "padding": null,
            "right": null,
            "top": null,
            "visibility": null,
            "width": null
          }
        }
      }
    }
  },
  "nbformat": 4,
  "nbformat_minor": 5
}
